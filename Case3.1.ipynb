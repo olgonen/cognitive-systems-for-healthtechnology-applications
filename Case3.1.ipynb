{
 "cells": [
  {
   "cell_type": "markdown",
   "metadata": {},
   "source": [
    "# Case 3. \n",
    "Matias Olkkonen<br>\n",
    "11.03.2018<br>\n",
    "Cognitive Systems for Health Technology Applications<br>\n",
    "[Helsinki Metropolia University of Applied Sciences]<br>"
   ]
  },
  {
   "cell_type": "markdown",
   "metadata": {},
   "source": [
    "# 1. Objectives"
   ]
  },
  {
   "cell_type": "markdown",
   "metadata": {},
   "source": [
    "The aim of this assignment is to learn to use recurrent and 1D convolutional neural networks to\n",
    "categorize medical texts."
   ]
  },
  {
   "cell_type": "markdown",
   "metadata": {},
   "source": [
    "## Processing raw data\n",
    "Based on listing 6.8 (p. 189) Chollet: Deep Learning with Python, 2018."
   ]
  },
  {
   "cell_type": "code",
   "execution_count": 46,
   "metadata": {
    "collapsed": true
   },
   "outputs": [],
   "source": [
    "import os\n",
    "\n",
    "ohsumed_dir = 'ohsumed-first-20000-docs/'\n",
    "train_dir = os.path.join(ohsumed_dir, 'training')\n",
    "\n",
    "labels = []\n",
    "texts = []\n",
    "\n",
    "# Generate a list L = ['C01', 'C02, ..., 'C023']\n",
    "L = ['C{:02}'.format(n) for n in range(1, 23 + 1)]\n",
    "for label_type in L:\n",
    "    dir_name = os.path.join(train_dir, label_type)\n",
    "    for fname in os.listdir(dir_name):\n",
    "        f = open(os.path.join(dir_name, fname))\n",
    "        texts.append(f.read())\n",
    "        f.close()\n",
    "        i = L.index(label_type)\n",
    "        labels.append(i)"
   ]
  },
  {
   "cell_type": "markdown",
   "metadata": {},
   "source": [
    "## Tokenize the text of the raw data\n",
    "Based on listing 6.9 (p. 189)"
   ]
  },
  {
   "cell_type": "code",
   "execution_count": 47,
   "metadata": {},
   "outputs": [
    {
     "name": "stdout",
     "output_type": "stream",
     "text": [
      "Found 30857 unique tokens\n"
     ]
    }
   ],
   "source": [
    "from keras.preprocessing.text import Tokenizer\n",
    "from keras.preprocessing.sequence import pad_sequences\n",
    "import numpy as np\n",
    "\n",
    "maxlen = 300\n",
    "max_words = 20000\n",
    "\n",
    "tokenizer = Tokenizer(num_words = max_words)\n",
    "tokenizer.fit_on_texts(texts)\n",
    "sequences = tokenizer.texts_to_sequences(texts)\n",
    "\n",
    "word_index = tokenizer.word_index\n",
    "print('Found %s unique tokens' % len(word_index))"
   ]
  },
  {
   "cell_type": "markdown",
   "metadata": {},
   "source": [
    "### Shape the data and labels"
   ]
  },
  {
   "cell_type": "code",
   "execution_count": 48,
   "metadata": {},
   "outputs": [
    {
     "name": "stdout",
     "output_type": "stream",
     "text": [
      "Shape of data tensor: (10433, 300)\n",
      "Shape of labels tensor: (10433, 23)\n"
     ]
    }
   ],
   "source": [
    "from keras.utils.np_utils import to_categorical\n",
    "\n",
    "data = pad_sequences(sequences, maxlen = maxlen)\n",
    "\n",
    "labels = np.asarray(labels)\n",
    "one_hot_labels = to_categorical(labels)\n",
    "\n",
    "\n",
    "print('Shape of data tensor:', data.shape)\n",
    "print('Shape of labels tensor:', one_hot_labels.shape)"
   ]
  },
  {
   "cell_type": "markdown",
   "metadata": {},
   "source": [
    "### Shuffle the data and labels"
   ]
  },
  {
   "cell_type": "code",
   "execution_count": 49,
   "metadata": {
    "collapsed": true
   },
   "outputs": [],
   "source": [
    "indices = np.arange(data.shape[0])\n",
    "np.random.shuffle(indices)\n",
    "data = data[indices]\n",
    "labels = labels[indices]\n",
    "one_hot_labels = one_hot_labels[indices]"
   ]
  },
  {
   "cell_type": "markdown",
   "metadata": {},
   "source": [
    "## Build the model\n",
    "Listing 6.7 (p. 187)"
   ]
  },
  {
   "cell_type": "code",
   "execution_count": 50,
   "metadata": {},
   "outputs": [
    {
     "name": "stdout",
     "output_type": "stream",
     "text": [
      "_________________________________________________________________\n",
      "Layer (type)                 Output Shape              Param #   \n",
      "=================================================================\n",
      "embedding_4 (Embedding)      (None, 300, 100)          2000000   \n",
      "_________________________________________________________________\n",
      "flatten_4 (Flatten)          (None, 30000)             0         \n",
      "_________________________________________________________________\n",
      "dense_10 (Dense)             (None, 1024)              30721024  \n",
      "_________________________________________________________________\n",
      "dense_11 (Dense)             (None, 256)               262400    \n",
      "_________________________________________________________________\n",
      "dense_12 (Dense)             (None, 23)                5911      \n",
      "=================================================================\n",
      "Total params: 32,989,335\n",
      "Trainable params: 32,989,335\n",
      "Non-trainable params: 0\n",
      "_________________________________________________________________\n"
     ]
    }
   ],
   "source": [
    "from keras.models import Sequential\n",
    "from keras.layers import Flatten, Dense, Embedding\n",
    "\n",
    "model = Sequential()\n",
    "model.add(Embedding(max_words, 100, input_length=maxlen))\n",
    "model.add(Flatten())\n",
    "model.add(Dense(1024, activation = 'relu'))\n",
    "model.add(Dense(256, activation = 'relu'))\n",
    "model.add(Dense(len(L), activation = 'softmax'))\n",
    "\n",
    "model.compile(optimizer = 'rmsprop',\n",
    "             loss = 'categorical_crossentropy',\n",
    "             metrics = ['accuracy'])\n",
    "\n",
    "model.summary()"
   ]
  },
  {
   "cell_type": "markdown",
   "metadata": {},
   "source": [
    "## Train the model\n",
    "\n",
    "I tried multiple times different epochs and batch sizes. Accuracy was quite \"good\" in some cases but getting good result from validation accuracy was quite difficult. Here is some results that I got:\n",
    "\n",
    "\n",
    "model.add(Embedding(max_words, 8, input_length=maxlen))<br>\n",
    "epochs = 10,<br>\n",
    "batch_size = 32, <br>\n",
    "-> with these values I got accuracy 0.55 and validation accuracy 0.12<br>\n",
    "\n",
    "model.add(Embedding(max_words, 32, input_length=maxlen))<br>\n",
    "epochs = 10,<br>\n",
    "batch_size = 50, <br>\n",
    "-> with these values I got accuracy 0.5867 and validation accuracy 0.1476<br>\n",
    "\n",
    "\n",
    "model.add(Embedding(max_words, 50, input_length=maxlen))<br>\n",
    "epochs = 10,<br>\n",
    "batch_size = 65,<br> \n",
    "-> with these values I got accuracy 0.5664 and validation accuracy 0.1505<br>\n",
    "\n",
    "\n",
    "model.add(Embedding(max_words, 100, input_length=maxlen))<br>\n",
    "epochs = 15,<br>\n",
    "batch_size = 55,<br> \n",
    "-> with these values I got accuracy 0.6068 and validation accuracy 0.1145<br>"
   ]
  },
  {
   "cell_type": "code",
   "execution_count": 51,
   "metadata": {},
   "outputs": [
    {
     "name": "stdout",
     "output_type": "stream",
     "text": [
      "Train on 8346 samples, validate on 2087 samples\n",
      "Epoch 1/15\n",
      "8346/8346 [==============================] - 194s 23ms/step - loss: 2.8129 - acc: 0.1834 - val_loss: 2.6551 - val_acc: 0.2080\n",
      "Epoch 2/15\n",
      "8346/8346 [==============================] - 192s 23ms/step - loss: 2.1661 - acc: 0.3263 - val_loss: 2.7941 - val_acc: 0.1634\n",
      "Epoch 3/15\n",
      "8346/8346 [==============================] - 209s 25ms/step - loss: 1.4830 - acc: 0.4958 - val_loss: 3.1442 - val_acc: 0.1390\n",
      "Epoch 4/15\n",
      "8346/8346 [==============================] - 253s 30ms/step - loss: 1.1197 - acc: 0.5308 - val_loss: 3.5208 - val_acc: 0.1567\n",
      "Epoch 5/15\n",
      "8346/8346 [==============================] - 191s 23ms/step - loss: 0.9164 - acc: 0.5419 - val_loss: 4.2910 - val_acc: 0.1433\n",
      "Epoch 6/15\n",
      "8346/8346 [==============================] - 204s 24ms/step - loss: 0.8093 - acc: 0.5497 - val_loss: 4.8198 - val_acc: 0.1509\n",
      "Epoch 7/15\n",
      "8346/8346 [==============================] - 311s 37ms/step - loss: 0.7524 - acc: 0.5648 - val_loss: 5.1453 - val_acc: 0.1538\n",
      "Epoch 8/15\n",
      "8346/8346 [==============================] - 314s 38ms/step - loss: 0.7202 - acc: 0.5633 - val_loss: 5.1221 - val_acc: 0.1433\n",
      "Epoch 9/15\n",
      "8346/8346 [==============================] - 627s 75ms/step - loss: 0.7018 - acc: 0.5776 - val_loss: 5.7855 - val_acc: 0.1342\n",
      "Epoch 10/15\n",
      "8346/8346 [==============================] - 224s 27ms/step - loss: 0.6890 - acc: 0.5824 - val_loss: 6.2171 - val_acc: 0.1615\n",
      "Epoch 11/15\n",
      "8346/8346 [==============================] - 200s 24ms/step - loss: 0.6746 - acc: 0.5861 - val_loss: 6.0210 - val_acc: 0.1409\n",
      "Epoch 12/15\n",
      "8346/8346 [==============================] - 200s 24ms/step - loss: 0.6612 - acc: 0.5930 - val_loss: 7.0959 - val_acc: 0.1227\n",
      "Epoch 13/15\n",
      "8346/8346 [==============================] - 217s 26ms/step - loss: 0.6635 - acc: 0.5962 - val_loss: 7.2560 - val_acc: 0.1265\n",
      "Epoch 14/15\n",
      "8346/8346 [==============================] - 214s 26ms/step - loss: 0.6655 - acc: 0.5962 - val_loss: 7.6593 - val_acc: 0.1313\n",
      "Epoch 15/15\n",
      "8346/8346 [==============================] - 252s 30ms/step - loss: 0.6715 - acc: 0.6068 - val_loss: 6.9449 - val_acc: 0.1145\n",
      "Elapsed time: 3801.23 seconds\n"
     ]
    }
   ],
   "source": [
    "import time\n",
    "\n",
    "t1 = time.time()\n",
    "history = model.fit(data, one_hot_labels,\n",
    "                   epochs = 15,\n",
    "                   batch_size = 55,\n",
    "                   validation_split = 0.2)\n",
    "t2 = time.time()\n",
    "print('Elapsed time: {:.2f} seconds'.format((t2-t1)))"
   ]
  },
  {
   "cell_type": "markdown",
   "metadata": {},
   "source": [
    "## Training results"
   ]
  },
  {
   "cell_type": "code",
   "execution_count": 53,
   "metadata": {},
   "outputs": [
    {
     "data": {
      "image/png": "[encoded data removed]",
      "text/plain": [
       "<matplotlib.figure.Figure at 0x2a8588012e8>"
      ]
     },
     "metadata": {},
     "output_type": "display_data"
    },
    {
     "data": {
      "image/png": "[encoded data removed]",
      "text/plain": [
       "<matplotlib.figure.Figure at 0x2a859f1e940>"
      ]
     },
     "metadata": {},
     "output_type": "display_data"
    }
   ],
   "source": [
    "import matplotlib.pyplot as plt\n",
    "\n",
    "acc = history.history['acc']\n",
    "val_acc = history.history['val_acc']\n",
    "loss = history.history['loss']\n",
    "val_loss = history.history['val_loss']\n",
    "\n",
    "epochs = range(1, len(acc) + 1)\n",
    "\n",
    "plt.figure(figsize=(15, 3))\n",
    "plt.plot(epochs, acc, 'bo', label='Training acc')\n",
    "plt.plot(epochs, val_acc, 'b', label='Validation acc')\n",
    "plt.title('Training and validation accuracy')\n",
    "plt.grid()\n",
    "plt.xlabel('Epoch')\n",
    "plt.legend()\n",
    "\n",
    "\n",
    "plt.figure(figsize=(15, 3))\n",
    "plt.plot(epochs, loss, 'bo', label='Training loss')\n",
    "plt.plot(epochs, val_loss, 'b', label='Validation loss')\n",
    "plt.title('Training and validation loss')\n",
    "plt.grid()\n",
    "plt.xlabel('Epoch')\n",
    "plt.legend()\n",
    "\n",
    "plt.show()"
   ]
  },
  {
   "cell_type": "markdown",
   "metadata": {},
   "source": [
    "## Metrics results"
   ]
  },
  {
   "cell_type": "code",
   "execution_count": 54,
   "metadata": {
    "collapsed": true
   },
   "outputs": [],
   "source": [
    "# Calculate the predictions\n",
    "predictions = model.predict(data)\n",
    "y_pred = np.argmax(predictions, axis = 1)"
   ]
  },
  {
   "cell_type": "code",
   "execution_count": 55,
   "metadata": {
    "collapsed": true
   },
   "outputs": [],
   "source": [
    "# http://scikit-learn.org/stable/modules/model_evaluation.html\n",
    "from sklearn.metrics import accuracy_score, precision_score, f1_score, confusion_matrix\n",
    "from sklearn.metrics import classification_report, recall_score"
   ]
  },
  {
   "cell_type": "code",
   "execution_count": 56,
   "metadata": {},
   "outputs": [
    {
     "name": "stdout",
     "output_type": "stream",
     "text": [
      "             precision    recall  f1-score   support\n",
      "\n",
      "          0       0.56      0.45      0.50       423\n",
      "          1       0.36      0.42      0.39       158\n",
      "          2       0.58      0.29      0.39        65\n",
      "          3       0.62      0.61      0.62      1163\n",
      "          4       0.38      0.65      0.48       283\n",
      "          5       0.71      0.34      0.46       588\n",
      "          6       0.47      0.63      0.54       100\n",
      "          7       0.54      0.45      0.49       473\n",
      "          8       0.60      0.51      0.55       125\n",
      "          9       0.49      0.71      0.58       621\n",
      "         10       0.49      0.62      0.54       162\n",
      "         11       0.63      0.42      0.50       491\n",
      "         12       0.46      0.73      0.57       281\n",
      "         13       0.59      0.82      0.68      1249\n",
      "         14       0.61      0.31      0.41       215\n",
      "         15       0.55      0.62      0.59       200\n",
      "         16       0.63      0.44      0.52       295\n",
      "         17       0.78      0.48      0.59       388\n",
      "         18       0.44      0.55      0.49       191\n",
      "         19       0.48      0.60      0.54       525\n",
      "         20       0.56      0.73      0.63       546\n",
      "         21       0.40      0.48      0.44        92\n",
      "         22       0.57      0.40      0.47      1799\n",
      "\n",
      "avg / total       0.57      0.55      0.54     10433\n",
      "\n"
     ]
    }
   ],
   "source": [
    "# Classification results per class\n",
    "print(classification_report(labels, y_pred))"
   ]
  },
  {
   "cell_type": "code",
   "execution_count": 57,
   "metadata": {
    "scrolled": false
   },
   "outputs": [
    {
     "name": "stdout",
     "output_type": "stream",
     "text": [
      "[[ 189    8    0    5   28    8    4   16    0   21    7    4   17   24    6    2    4    2    1\n",
      "    25   25    3   24]\n",
      " [  10   67    0    6    2    4    3    4    1    7    4    0   10    3    1    0    1    0    1\n",
      "    25    2    0    7]\n",
      " [   2    3   19    4    1    1    0    5    0    5    3    0    1    3    0    1    2    0    1\n",
      "     5    3    0    6]\n",
      " [   9   10    1  712   23    5   17   24   14   45    7   28   41   31    5   12   10    8   23\n",
      "    40   17    4   77]\n",
      " [   1    2    0    4  185    1    3    3    0   27    4    1    1    7    0    5    4    1    1\n",
      "     6   16    0   11]\n",
      " [  25    7    1   55   12  199    1    6    0   16    4    9   11   31    3    4    4    6    8\n",
      "    23   28    7  128]\n",
      " [   1    2    0   10    6    0   63    1    0    1    0    1    2    2    0    1    1    2    0\n",
      "     4    2    0    1]\n",
      " [  17   13    0   40    7    3    3  211    4   16    2    2    7   42    3    5    2    0    2\n",
      "    45   17    5   27]\n",
      " [   3    2    0   11    5    0    1   11   64    5    0    0    3    0    0    3    0    0    0\n",
      "     7    0    0   10]\n",
      " [   4    9    1   15   13    0    4    1    0  438   15    3   10   32    0    3    2    2    8\n",
      "    12   28    1   20]\n",
      " [   1    2    1    9    3    1    1    1    1    8  100    0    1    6    0    0    2    2    0\n",
      "     7    9    2    5]\n",
      " [   7    4    1   76    7    6    0    5    1   12    1  205   16   52    2    5    3    3   13\n",
      "    12   14    2   44]\n",
      " [   2    4    1   10    3    1    0    2    0    6    0    2  205   11    1    5    1    0    3\n",
      "     6    8    1    9]\n",
      " [   5    2    1    7    8    4    1    6    0   40    7    3   14 1021    3   11    4    3   12\n",
      "     9   29   10   49]\n",
      " [   6    0    2   11   13    2    1    2    0   10    4   15   11   18   67    1    7    0    0\n",
      "    15    4    3   23]\n",
      " [   1    2    0    1    9    0    1    4    0    8    3    0    8   27    1  125    0    0    0\n",
      "     0    1    0    9]\n",
      " [   1    8    1    8   31    0    5    2    2   10    4    7   10   16    1    4  129    0    4\n",
      "    25    4    4   19]\n",
      " [   1    0    1    6   11    3    3    3    0    8    3   16    4   57    1    1    1  186   32\n",
      "     8    5    5   33]\n",
      " [   0    1    2   10    9    1    0    1    0    8    3    4    2   19    1    1    1   10  106\n",
      "     3    1    1    7]\n",
      " [   9   22    0   30   15    5    5   15    0   24    4    2   15   10    6    2    9    1    6\n",
      "   317   18    1    9]\n",
      " [   5    4    0    7   26    5    2    9    2   33    3    0    3   20    0    0    3    2    1\n",
      "     8  397    4   12]\n",
      " [   1    2    0    1    5    3    0    2    0    3    0    0    0   14    1    0    3    1    3\n",
      "     3    3   44    3]\n",
      " [  40   13    1  103   59   30   16   55   18  145   27   21   51  292    7   35   12    9   14\n",
      "    52   74   12  713]]\n"
     ]
    }
   ],
   "source": [
    "# Confusion matrix\n",
    "cm = confusion_matrix(labels, y_pred)\n",
    "print(np.array2string(cm, max_line_width = 100))"
   ]
  },
  {
   "cell_type": "code",
   "execution_count": 58,
   "metadata": {},
   "outputs": [
    {
     "name": "stdout",
     "output_type": "stream",
     "text": [
      "Pharmacological reversibility of experimental cerebral vasospasm.\n",
      " Using a morphometric technique, the pharmacological reversibility of luminal narrowing after experimental subarachnoid hemorrhage (SAH) was investigated.\n",
      " For vasodilation, a \"cocktail\" consisting of 10(-4) M papaverine, 2 x 10(-4) M sodium nitroprusside, and 10(-5) M adenosine was administered intra-arterially.\n",
      " Forty-two rabbits were divided into six groups: control (normal animals); control plus cocktail (normal animals perfused with the cocktail before fixation); SAH (animals sacrificed 48 hours subsequent to intracisternal injection of 1.5 ml/kg of arterial blood); SAH plus cocktail (SAH plus perfusion with the cocktail); BaCl2 (animals sacrificed 10 minutes after intracisternal injection of 2 ml of 3 x 10(-3) M BaCl2); and BaCl2 plus cocktail (BaCl2 animals perfused with the cocktail).\n",
      " The diameter of the basilar arteries in the control and the control plus cocktail groups was not significantly different.\n",
      " BaCl2 reduced the diameter 44% and SAH reduced the diameter 27%.\n",
      " There were no significant differences between the diameter of the BaCl2 plus cocktail group and SAH plus cocktail group when compared with the control or the control plus cocktail group.\n",
      " Morphological examination by light and transmission electron microscopy showed luminal narrowing and corrugation of the elastic lamina with few degenerative or proliferative changes of the vessel wall in animals with SAH.\n",
      " These results suggest that cerebral vasospasm is caused initially by smooth muscle contraction rather than by proliferative vasculopathy and that it is not an irreversible process.\n",
      "\n"
     ]
    }
   ],
   "source": [
    "print(texts[indices[512]])"
   ]
  },
  {
   "cell_type": "code",
   "execution_count": 59,
   "metadata": {},
   "outputs": [
    {
     "name": "stdout",
     "output_type": "stream",
     "text": [
      "True class:  13\n",
      "Predicted class: 13\n",
      "Predictions per class:\n",
      "[  2.22e-14   1.58e-21   3.54e-23   1.02e-15   1.28e-12   1.60e-14\n",
      "   3.54e-25   7.38e-12   2.55e-29   1.87e-10   4.04e-20   3.70e-11\n",
      "   9.73e-16   1.00e+00   1.79e-17   2.68e-12   4.04e-16   1.77e-12\n",
      "   1.00e-13   1.17e-17   1.36e-10   2.32e-13   3.51e-10]\n"
     ]
    },
    {
     "data": {
      "image/png": "[encoded data removed]",
      "text/plain": [
       "<matplotlib.figure.Figure at 0x2a8588f40f0>"
      ]
     },
     "metadata": {},
     "output_type": "display_data"
    }
   ],
   "source": [
    "print('True class: ', labels[512])\n",
    "print('Predicted class:', y_pred[512])\n",
    "print('Predictions per class:')\n",
    "print(np.array2string(predictions[512], precision = 2))\n",
    "\n",
    "plt.stem(predictions[512])\n",
    "plt.show()"
   ]
  },
  {
   "cell_type": "markdown",
   "metadata": {},
   "source": [
    "# Conclusions"
   ]
  },
  {
   "cell_type": "markdown",
   "metadata": {},
   "source": [
    "As we saw it was quite hard, almost impossible to get good accuracy from this data."
   ]
  },
  {
   "cell_type": "code",
   "execution_count": 60,
   "metadata": {},
   "outputs": [
    {
     "data": {
      "text/plain": [
       "'1.12.1'"
      ]
     },
     "execution_count": 60,
     "metadata": {},
     "output_type": "execute_result"
    }
   ],
   "source": [
    "np.__version__"
   ]
  }
 ],
 "metadata": {
  "kernelspec": {
   "display_name": "Python 3",
   "language": "python",
   "name": "python3"
  },
  "language_info": {
   "codemirror_mode": {
    "name": "ipython",
    "version": 3
   },
   "file_extension": ".py",
   "mimetype": "text/x-python",
   "name": "python",
   "nbconvert_exporter": "python",
   "pygments_lexer": "ipython3",
   "version": "3.6.3"
  }
 },
 "nbformat": 4,
 "nbformat_minor": 2
}
